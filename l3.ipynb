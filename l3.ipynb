{
 "cells": [
  {
   "cell_type": "code",
   "execution_count": 5,
   "metadata": {},
   "outputs": [],
   "source": [
    "class students:\n",
    " def __init__(self, name, group):\n",
    "        self.name = name\n",
    "        self.group = group\n",
    "        \n",
    "\n",
    " def setting_name(self, name): #Изменение имени\n",
    "    self.name = name\n",
    "    print('Имя:', name)\n",
    "\n",
    " def setting_group(self, group): \n",
    "    self.group = group\n",
    "    print('Группа: \"', group)\n",
    "\n",
    " def afl(self): \n",
    "    print('Имя студента ', self.name, 'группа:', self.group)\n",
    "\n",
    "\n",
    "#Заполнение\n",
    "S1 = students('Студент1 ','АСУ')  \n",
    "S2 = students('Студент 2','АСУ')    \n",
    "S3 = students('Студент3','ЭВТ')  \n",
    "\n",
    "#Вывод \n",
    "afl(S1)  \n",
    "afl(S2)\n",
    "afl(S3)\n",
    "    "
   ]
  }
 ],
 "metadata": {
  "kernelspec": {
   "display_name": "Python 3.10.x 64-bit (microsoft store)",
   "language": "python",
   "name": "python3"
  },
  "language_info": {
   "codemirror_mode": {
    "name": "ipython",
    "version": 3
   },
   "file_extension": ".py",
   "mimetype": "text/x-python",
   "name": "python",
   "nbconvert_exporter": "python",
   "pygments_lexer": "ipython3",
   "version": "3.10.8"
  },
  "orig_nbformat": 4,
  "vscode": {
   "interpreter": {
    "hash": "7b1f2b33e866b0bf2409397e5f58ba9cdf170d3b7f64c8f359c79998e2f88ad4"
   }
  }
 },
 "nbformat": 4,
 "nbformat_minor": 2
}
