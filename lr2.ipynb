{
 "cells": [
  {
   "cell_type": "code",
   "execution_count": 38,
   "metadata": {},
   "outputs": [],
   "source": [
    "# работа с областями видимости \n",
    "#получение значения глоальной переменнной внутри функции \n",
    "animal = 'кошка'\n",
    "def print_global_animal():\n",
    "    print('У Мишы дома живет ', animal)\n",
    "\n",
    "\n",
    "#внутри данной функции локальной переменной присваивается значение, но на глобальную переменную это не влияет\n",
    "def print_local_animal():\n",
    "    animal = 'кролик'\n",
    "    print('У Кати живет ', animal)\n",
    "\n",
    "#чтобы получить доступ к глобаьной переменной внутри функции нужно явно использовать ключевое слово global\n",
    "def change_and_print_global():\n",
    "    global animal\n",
    "    animal = 'змея'\n",
    "    print('У Ани живет ', animal)\n",
    "\n",
    "\n",
    "\n",
    "def main():\n",
    "    change_and_print_global()\n",
    "    print_local_animal()\n",
    "    print_global_animal()\n",
    "\n",
    "if __name__ == \"__main__\":\n",
    "\tmain()\n"
   ]
  },
  {
   "cell_type": "code",
   "execution_count": 40,
   "metadata": {},
   "outputs": [
    {
     "name": "stdout",
     "output_type": "stream",
     "text": [
      "У Ани живет  змея\n",
      "У Кати живет  кролик\n",
      "У Мишы дома живет  змея\n"
     ]
    }
   ],
   "source": []
  },
  {
   "cell_type": "code",
   "execution_count": 43,
   "metadata": {},
   "outputs": [
    {
     "name": "stdout",
     "output_type": "stream",
     "text": [
      "fog\n"
     ]
    }
   ],
   "source": [
    "import random\n",
    "\n",
    "def get_description():\n",
    "    possibilities = [\n",
    "        'rain', \n",
    "        'snow', \n",
    "        'sleet', \n",
    "        'fog'\n",
    "        ]\n",
    "    return random.choice(possibilities)\n",
    "\n",
    "\n",
    "def main():\n",
    "    a = get_description()\n",
    "    print(a)\n",
    "\n",
    "if __name__ == \"__main__\":\n",
    "\tmain()\n"
   ]
  },
  {
   "cell_type": "code",
   "execution_count": null,
   "metadata": {},
   "outputs": [],
   "source": []
  }
 ],
 "metadata": {
  "kernelspec": {
   "display_name": "Python 3.10.7 64-bit (microsoft store)",
   "language": "python",
   "name": "python3"
  },
  "language_info": {
   "codemirror_mode": {
    "name": "ipython",
    "version": 3
   },
   "file_extension": ".py",
   "mimetype": "text/x-python",
   "name": "python",
   "nbconvert_exporter": "python",
   "pygments_lexer": "ipython3",
   "version": "3.10.7"
  },
  "orig_nbformat": 4,
  "vscode": {
   "interpreter": {
    "hash": "7b1f2b33e866b0bf2409397e5f58ba9cdf170d3b7f64c8f359c79998e2f88ad4"
   }
  }
 },
 "nbformat": 4,
 "nbformat_minor": 2
}
